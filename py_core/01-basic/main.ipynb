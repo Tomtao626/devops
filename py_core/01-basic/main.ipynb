{
 "cells": [
  {
   "cell_type": "code",
   "execution_count": 7,
   "metadata": {
    "collapsed": true
   },
   "outputs": [
    {
     "data": {
      "text/plain": "0"
     },
     "execution_count": 7,
     "metadata": {},
     "output_type": "execute_result"
    }
   ],
   "source": [
    "l = [1,\"test11\",3.1415926]\n",
    "l.count(3)"
   ]
  },
  {
   "cell_type": "code",
   "execution_count": 12,
   "outputs": [
    {
     "name": "stdout",
     "output_type": "stream",
     "text": [
      "104\n",
      "48\n"
     ]
    }
   ],
   "source": [
    "l = [1,2,3]\n",
    "print(l.__sizeof__())\n",
    "t = (1,2,3)\n",
    "print(t.__sizeof__())"
   ],
   "metadata": {
    "collapsed": false
   }
  },
  {
   "cell_type": "code",
   "execution_count": 15,
   "outputs": [
    {
     "name": "stdout",
     "output_type": "stream",
     "text": [
      "40\n",
      "72\n",
      "72\n",
      "72\n",
      "72\n",
      "104\n"
     ]
    }
   ],
   "source": [
    "l = []\n",
    "print(l.__sizeof__())\n",
    "l.append(1)\n",
    "print(l.__sizeof__())\n",
    "l.append(2)\n",
    "print(l.__sizeof__())\n",
    "l.append(3)\n",
    "print(l.__sizeof__())\n",
    "l.append(2)\n",
    "print(l.__sizeof__())\n",
    "l.append(3)\n",
    "print(l.__sizeof__())"
   ],
   "metadata": {
    "collapsed": false
   }
  },
  {
   "cell_type": "code",
   "execution_count": 16,
   "outputs": [
    {
     "name": "stdout",
     "output_type": "stream",
     "text": [
      "0.046208755999941786\n",
      "0.009252004000245506\n"
     ]
    }
   ],
   "source": [
    "import timeit\n",
    "\n",
    "print(timeit.timeit('l=[1,2,3,4,5,6]'))\n",
    "print(timeit.timeit('l=(1,2,3,4,5,6)'))"
   ],
   "metadata": {
    "collapsed": false
   }
  },
  {
   "cell_type": "code",
   "execution_count": 22,
   "outputs": [
    {
     "name": "stdout",
     "output_type": "stream",
     "text": [
      "0.0075512359999265755\n",
      "0.006128987000010966\n"
     ]
    }
   ],
   "source": [
    "import timeit\n",
    "print(timeit.timeit(\"'l=[1,2,3,4,5,6]' 'y=l[4]'\")) #\n",
    "print(timeit.timeit(\"'l=(1,2,3,4,5,6)' 'y=l[4]'\")) #"
   ],
   "metadata": {
    "collapsed": false
   }
  },
  {
   "cell_type": "code",
   "execution_count": null,
   "outputs": [],
   "source": [],
   "metadata": {
    "collapsed": false
   }
  }
 ],
 "metadata": {
  "kernelspec": {
   "display_name": "Python 3",
   "language": "python",
   "name": "python3"
  },
  "language_info": {
   "codemirror_mode": {
    "name": "ipython",
    "version": 2
   },
   "file_extension": ".py",
   "mimetype": "text/x-python",
   "name": "python",
   "nbconvert_exporter": "python",
   "pygments_lexer": "ipython2",
   "version": "2.7.6"
  }
 },
 "nbformat": 4,
 "nbformat_minor": 0
}
