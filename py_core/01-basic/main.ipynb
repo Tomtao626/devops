{
 "cells": [
  {
   "cell_type": "code",
   "execution_count": 7,
   "metadata": {
    "collapsed": true
   },
   "outputs": [
    {
     "data": {
      "text/plain": "0"
     },
     "execution_count": 7,
     "metadata": {},
     "output_type": "execute_result"
    }
   ],
   "source": [
    "l = [1,\"test11\",3.1415926]\n",
    "l.count(3)"
   ]
  },
  {
   "cell_type": "code",
   "execution_count": 12,
   "outputs": [
    {
     "name": "stdout",
     "output_type": "stream",
     "text": [
      "104\n",
      "48\n"
     ]
    }
   ],
   "source": [
    "l = [1,2,3]\n",
    "print(l.__sizeof__())\n",
    "t = (1,2,3)\n",
    "print(t.__sizeof__())"
   ],
   "metadata": {
    "collapsed": false
   }
  },
  {
   "cell_type": "code",
   "execution_count": 15,
   "outputs": [
    {
     "name": "stdout",
     "output_type": "stream",
     "text": [
      "40\n",
      "72\n",
      "72\n",
      "72\n",
      "72\n",
      "104\n"
     ]
    }
   ],
   "source": [
    "l = []\n",
    "print(l.__sizeof__())\n",
    "l.append(1)\n",
    "print(l.__sizeof__())\n",
    "l.append(2)\n",
    "print(l.__sizeof__())\n",
    "l.append(3)\n",
    "print(l.__sizeof__())\n",
    "l.append(2)\n",
    "print(l.__sizeof__())\n",
    "l.append(3)\n",
    "print(l.__sizeof__())"
   ],
   "metadata": {
    "collapsed": false
   }
  },
  {
   "cell_type": "code",
   "execution_count": 16,
   "outputs": [
    {
     "name": "stdout",
     "output_type": "stream",
     "text": [
      "0.046208755999941786\n",
      "0.009252004000245506\n"
     ]
    }
   ],
   "source": [
    "import timeit\n",
    "\n",
    "print(timeit.timeit('l=[1,2,3,4,5,6]'))\n",
    "print(timeit.timeit('l=(1,2,3,4,5,6)'))"
   ],
   "metadata": {
    "collapsed": false
   }
  },
  {
   "cell_type": "code",
   "execution_count": 22,
   "outputs": [
    {
     "name": "stdout",
     "output_type": "stream",
     "text": [
      "0.0075512359999265755\n",
      "0.006128987000010966\n"
     ]
    }
   ],
   "source": [
    "import timeit\n",
    "print(timeit.timeit(\"'l=[1,2,3,4,5,6]' 'y=l[4]'\")) #\n",
    "print(timeit.timeit(\"'l=(1,2,3,4,5,6)' 'y=l[4]'\")) #"
   ],
   "metadata": {
    "collapsed": false
   }
  },
  {
   "cell_type": "code",
   "execution_count": 1,
   "outputs": [
    {
     "name": "stdout",
     "output_type": "stream",
     "text": [
      "True\n"
     ]
    }
   ],
   "source": [
    "d = {\"name\":\"zhangsan\", \"age\":18}\n",
    "d1 = dict(name=\"zhangsan\",age=18)\n",
    "d2 = dict({\"name\":\"zhangsan\", \"age\":18})\n",
    "d3 = dict([(\"name\",\"zhangsan\"),(\"age\",18)])\n",
    "print(d==d1==d2==d3)"
   ],
   "metadata": {
    "collapsed": false
   }
  },
  {
   "cell_type": "code",
   "execution_count": 6,
   "outputs": [
    {
     "data": {
      "text/plain": "1"
     },
     "execution_count": 6,
     "metadata": {},
     "output_type": "execute_result"
    }
   ],
   "source": [
    "s = {1, 2, 3}\n",
    "s.add(4) # 增加元素4到集合\n",
    "# {1, 2, 3, 4}\n",
    "s.remove(4) # 从集合中删除元素4\n",
    "q = s.pop() # 集合的 pop() 操作是删除集合中最后一个元素，可是集合本身是无序的，你无法知道会删除哪个元素，因此这个操作得谨慎使用\n",
    "q"
   ],
   "metadata": {
    "collapsed": false
   }
  },
  {
   "cell_type": "code",
   "execution_count": 8,
   "outputs": [
    {
     "name": "stdout",
     "output_type": "stream",
     "text": [
      "[('a', 1), ('b', 5), ('c', 4), ('d', 7), ('e', 2)]\n",
      "[('a', 1), ('e', 2), ('c', 4), ('b', 5), ('d', 7)]\n"
     ]
    }
   ],
   "source": [
    "d = {'a':1, 'c':4, 'd':7, 'e':2, 'b':5}\n",
    "d_sorted_key = sorted(d.items(), key=lambda x:x[0]) # 根据字典key的升序\n",
    "d_sorted_value = sorted(d.items(), key=lambda x:x[1]) # 根据字典value升序\n",
    "print(d_sorted_key)\n",
    "print(d_sorted_value)"
   ],
   "metadata": {
    "collapsed": false
   }
  },
  {
   "cell_type": "code",
   "execution_count": null,
   "outputs": [],
   "source": [],
   "metadata": {
    "collapsed": false
   }
  }
 ],
 "metadata": {
  "kernelspec": {
   "display_name": "Python 3",
   "language": "python",
   "name": "python3"
  },
  "language_info": {
   "codemirror_mode": {
    "name": "ipython",
    "version": 2
   },
   "file_extension": ".py",
   "mimetype": "text/x-python",
   "name": "python",
   "nbconvert_exporter": "python",
   "pygments_lexer": "ipython2",
   "version": "2.7.6"
  }
 },
 "nbformat": 4,
 "nbformat_minor": 0
}
