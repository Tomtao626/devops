{
 "cells": [
  {
   "cell_type": "code",
   "execution_count": 1,
   "metadata": {
    "collapsed": true
   },
   "outputs": [
    {
     "name": "stdout",
     "output_type": "stream",
     "text": [
      "True\n"
     ]
    }
   ],
   "source": [
    "a = 1\n",
    "b = 1\n",
    "print(a==b)"
   ]
  },
  {
   "cell_type": "code",
   "execution_count": 2,
   "outputs": [
    {
     "name": "stdout",
     "output_type": "stream",
     "text": [
      "140482668796208 --- 140482668796208\n",
      "True\n"
     ]
    }
   ],
   "source": [
    "a = 1\n",
    "b = 1\n",
    "print(id(a), '---', id(b))\n",
    "print(a is b)"
   ],
   "metadata": {
    "collapsed": false
   }
  },
  {
   "cell_type": "code",
   "execution_count": 4,
   "outputs": [
    {
     "name": "stdout",
     "output_type": "stream",
     "text": [
      "True\n",
      "140482837763632\n",
      "140482837764016\n",
      "False\n"
     ]
    }
   ],
   "source": [
    "a = 257\n",
    "b = 257\n",
    "print(a == b)\n",
    "print(id(a))\n",
    "print(id(b))\n",
    "print(a is b)"
   ],
   "metadata": {
    "collapsed": false
   }
  },
  {
   "cell_type": "code",
   "execution_count": 9,
   "outputs": [
    {
     "name": "stdout",
     "output_type": "stream",
     "text": [
      "[1, 2, 3] ---- [1, 2, 3]\n",
      "False\n",
      "True\n",
      "{1, 2, 3} --- {1, 2, 3}\n",
      "False\n",
      "True\n"
     ]
    }
   ],
   "source": [
    "l1 = [1, 2, 3]\n",
    "l2 = list(l1)\n",
    "print(l1, '----', l2)\n",
    "print(l1 is l2)\n",
    "print(l1 == l2)\n",
    "\n",
    "s1 = set([1,2,3])\n",
    "s2 = set(s1)\n",
    "print(s1, '---', s2)\n",
    "print(s1 is s2)\n",
    "print(s1 == s2)"
   ],
   "metadata": {
    "collapsed": false
   }
  },
  {
   "cell_type": "code",
   "execution_count": 10,
   "outputs": [
    {
     "name": "stdout",
     "output_type": "stream",
     "text": [
      "[1, 2, 3] --- [1, 2, 3]\n",
      "False\n",
      "True\n"
     ]
    }
   ],
   "source": [
    "l3 = l1[:]\n",
    "print(l1, '---', l3) # [1, 2, 3] ---- [1, 2, 3]\n",
    "print(l1 is l3) # False\n",
    "print(l1 == l3) # True"
   ],
   "metadata": {
    "collapsed": false
   }
  },
  {
   "cell_type": "code",
   "execution_count": 11,
   "outputs": [
    {
     "name": "stdout",
     "output_type": "stream",
     "text": [
      "(1, 2, 3) --- (1, 2, 3)\n",
      "True\n",
      "True\n"
     ]
    }
   ],
   "source": [
    "t1 = (1,2,3)\n",
    "t2 = tuple(t1)\n",
    "print(t1, '---', t2)\n",
    "print(t1 is t2)\n",
    "print(t1 == t2)"
   ],
   "metadata": {
    "collapsed": false
   }
  },
  {
   "cell_type": "code",
   "execution_count": 14,
   "outputs": [
    {
     "name": "stdout",
     "output_type": "stream",
     "text": [
      "[[1, 2, 3], (10, 20), 50]\n",
      "[[1, 2, 3], (10, 20)]\n",
      "[[1, 2, 3], (10, 20, 30, 40), 50]\n",
      "[[1, 2, 3], (10, 20)]\n"
     ]
    }
   ],
   "source": [
    "l1 = [[1,2], (10,20)]\n",
    "l2 = list(l1)\n",
    "l1.append(50)\n",
    "l1[0].append(3)\n",
    "\n",
    "print(l1)\n",
    "print(l2)\n",
    "\n",
    "l1[1]+=(30,40)\n",
    "print(l1)\n",
    "print(l2)"
   ],
   "metadata": {
    "collapsed": false
   }
  },
  {
   "cell_type": "code",
   "execution_count": 15,
   "outputs": [
    {
     "name": "stdout",
     "output_type": "stream",
     "text": [
      "[[1, 2, 3], (10, 20), 50]\n",
      "[[1, 2], (10, 20)]\n"
     ]
    }
   ],
   "source": [
    "import copy\n",
    "l1 = [[1,2], (10,20)]\n",
    "l2 = copy.deepcopy(l1)\n",
    "l1.append(50)\n",
    "l1[0].append(3)\n",
    "print(l1)\n",
    "print(l2)"
   ],
   "metadata": {
    "collapsed": false
   }
  },
  {
   "cell_type": "code",
   "execution_count": 16,
   "outputs": [
    {
     "ename": "RecursionError",
     "evalue": "maximum recursion depth exceeded in comparison",
     "output_type": "error",
     "traceback": [
      "\u001B[0;31m---------------------------------------------------------------------------\u001B[0m",
      "\u001B[0;31mRecursionError\u001B[0m                            Traceback (most recent call last)",
      "Cell \u001B[0;32mIn [16], line 8\u001B[0m\n\u001B[1;32m      5\u001B[0m y \u001B[38;5;241m=\u001B[39m copy\u001B[38;5;241m.\u001B[39mdeepcopy(x)\n\u001B[1;32m      7\u001B[0m \u001B[38;5;66;03m# 以下命令的输出是？\u001B[39;00m\n\u001B[0;32m----> 8\u001B[0m \u001B[43mx\u001B[49m\u001B[43m \u001B[49m\u001B[38;5;241;43m==\u001B[39;49m\u001B[43m \u001B[49m\u001B[43my\u001B[49m\n",
      "\u001B[0;31mRecursionError\u001B[0m: maximum recursion depth exceeded in comparison"
     ]
    }
   ],
   "source": [
    "\n",
    "import copy\n",
    "x = [1]\n",
    "x.append(x)\n",
    "\n",
    "y = copy.deepcopy(x)\n",
    "\n",
    "# 以下命令的输出是？\n",
    "x == y"
   ],
   "metadata": {
    "collapsed": false
   }
  },
  {
   "cell_type": "code",
   "execution_count": 17,
   "outputs": [
    {
     "name": "stdout",
     "output_type": "stream",
     "text": [
      "[1, 2, 3, 4]\n"
     ]
    }
   ],
   "source": [
    "def func(l):\n",
    "    l.append(4)\n",
    "\n",
    "l2 = [1,2,3]\n",
    "func(l2)\n",
    "print(l2)"
   ],
   "metadata": {
    "collapsed": false
   }
  },
  {
   "cell_type": "code",
   "execution_count": 18,
   "outputs": [
    {
     "name": "stdout",
     "output_type": "stream",
     "text": [
      "hello, china\n"
     ]
    }
   ],
   "source": [
    "def func(message):\n",
    "    print(f\"hello, {message}\")\n",
    "\n",
    "send_message = func\n",
    "send_message(\"china\")"
   ],
   "metadata": {
    "collapsed": false
   }
  },
  {
   "cell_type": "code",
   "execution_count": 19,
   "outputs": [
    {
     "name": "stdout",
     "output_type": "stream",
     "text": [
      "wrapper of decorator\n",
      "hello, ASML\n"
     ]
    }
   ],
   "source": [
    "def my_decorator(func):\n",
    "    def wrapper(message):\n",
    "        print(\"wrapper of decorator\")\n",
    "        func(message)\n",
    "    return wrapper\n",
    "\n",
    "@my_decorator\n",
    "def greeter(message):\n",
    "    print(f\"hello, {message}\")\n",
    "\n",
    "greeter(\"ASML\")"
   ],
   "metadata": {
    "collapsed": false
   }
  },
  {
   "cell_type": "code",
   "execution_count": 22,
   "outputs": [
    {
     "name": "stdout",
     "output_type": "stream",
     "text": [
      "wrapper of decorator\n",
      "NVDIA\n",
      "wrapper of decorator\n",
      "NVDIA\n",
      "wrapper of decorator\n",
      "NVDIA\n",
      "wrapper of decorator\n",
      "NVDIA\n",
      "wrapper\n"
     ]
    }
   ],
   "source": [
    "def rpeat(num):\n",
    "    def my_decorator(func):\n",
    "        def wrapper(*args, **kwargs):\n",
    "            for i in range(num):\n",
    "                print(\"wrapper of decorator\")\n",
    "                func(*args, **kwargs)\n",
    "        return wrapper\n",
    "    return my_decorator\n",
    "\n",
    "@rpeat(4)\n",
    "def greeter(message):\n",
    "    print(message)\n",
    "\n",
    "greeter(\"NVDIA\")\n",
    "print(greeter.__name__)"
   ],
   "metadata": {
    "collapsed": false
   }
  },
  {
   "cell_type": "code",
   "execution_count": 23,
   "outputs": [
    {
     "name": "stdout",
     "output_type": "stream",
     "text": [
      "wrapper of decorator\n",
      "hello, Apple\n",
      "greeter\n"
     ]
    }
   ],
   "source": [
    "import functools\n",
    "\n",
    "def my_decorator(func):\n",
    "    @functools.wraps(func)\n",
    "    def wrapper(*args, **kwargs):\n",
    "        print(\"wrapper of decorator\")\n",
    "        func(*args, **kwargs)\n",
    "    return wrapper\n",
    "\n",
    "@my_decorator\n",
    "def greeter(message):\n",
    "    print(f\"hello, {message}\")\n",
    "\n",
    "greeter(\"Apple\")\n",
    "print(greeter.__name__)"
   ],
   "metadata": {
    "collapsed": false
   }
  },
  {
   "cell_type": "code",
   "execution_count": 26,
   "outputs": [
    {
     "name": "stdout",
     "output_type": "stream",
     "text": [
      "num of calls is 1\n",
      "hello, world\n",
      "num of calls is 2\n",
      "hello, world\n"
     ]
    }
   ],
   "source": [
    "class Count:\n",
    "    def __init__(self, func):\n",
    "        self.func = func\n",
    "        self.num_calls = 0\n",
    "\n",
    "    def __call__(self, *args, **kwargs):\n",
    "        self.num_calls += 1\n",
    "        print(f\"num of calls is {self.num_calls}\")\n",
    "        return self.func(*args, **kwargs)\n",
    "\n",
    "@Count\n",
    "def example():\n",
    "    print(\"hello, world\")\n",
    "\n",
    "example()\n",
    "\n",
    "example()"
   ],
   "metadata": {
    "collapsed": false
   }
  },
  {
   "cell_type": "code",
   "execution_count": 28,
   "outputs": [
    {
     "name": "stdout",
     "output_type": "stream",
     "text": [
      "decorator1\n",
      "decorator2\n",
      "hello, YYDS\n"
     ]
    }
   ],
   "source": [
    "import functools\n",
    "\n",
    "def decorator1(func):\n",
    "    @functools.wraps(func)\n",
    "    def wrapper(*args, **kwargs):\n",
    "        print(\"decorator1\")\n",
    "        func(*args, **kwargs)\n",
    "    return wrapper\n",
    "\n",
    "def decorator2(func):\n",
    "    @functools.wraps(func)\n",
    "    def wrapper(*args, **kwargs):\n",
    "        print(\"decorator2\")\n",
    "        func(*args, **kwargs)\n",
    "    return wrapper\n",
    "\n",
    "@decorator1\n",
    "@decorator2\n",
    "def greeter(message):\n",
    "    print(f\"hello, {message}\")\n",
    "\n",
    "greeter(\"YYDS\")"
   ],
   "metadata": {
    "collapsed": false
   }
  },
  {
   "cell_type": "code",
   "execution_count": 29,
   "outputs": [
    {
     "ename": "SyntaxError",
     "evalue": "invalid syntax (822909339.py, line 19)",
     "output_type": "error",
     "traceback": [
      "\u001B[0;36m  Cell \u001B[0;32mIn [29], line 19\u001B[0;36m\u001B[0m\n\u001B[0;31m    def post_comment(request, ...):\u001B[0m\n\u001B[0m                              ^\u001B[0m\n\u001B[0;31mSyntaxError\u001B[0m\u001B[0;31m:\u001B[0m invalid syntax\n"
     ]
    }
   ],
   "source": [
    "import functools\n",
    "\n",
    "\n",
    "def check_user_logged_in(request):\n",
    "    pass\n",
    "\n",
    "\n",
    "def authenticate(func):\n",
    "    @functools.wraps(func)\n",
    "    def wrapper(*args, **kwargs):\n",
    "        request = args[0]\n",
    "        if check_user_logged_in(request): # 如果用户处于登录状态\n",
    "            return func(*args, **kwargs)  # 执行函数post_comment\n",
    "        else:\n",
    "            return Exception(\"Authentication failed\")\n",
    "    return wrapper\n",
    "\n",
    "@authenticate\n",
    "def post_comment(request, ...):\n",
    "    ..."
   ],
   "metadata": {
    "collapsed": false
   }
  },
  {
   "cell_type": "code",
   "execution_count": 32,
   "outputs": [
    {
     "ename": "TypeError",
     "evalue": "load() missing 1 required positional argument: 'Loader'",
     "output_type": "error",
     "traceback": [
      "\u001B[0;31m---------------------------------------------------------------------------\u001B[0m",
      "\u001B[0;31mTypeError\u001B[0m                                 Traceback (most recent call last)",
      "Cell \u001B[0;32mIn [32], line 14\u001B[0m\n\u001B[1;32m      9\u001B[0m   \u001B[38;5;28;01mdef\u001B[39;00m \u001B[38;5;21m__repr__\u001B[39m(\u001B[38;5;28mself\u001B[39m):\n\u001B[1;32m     10\u001B[0m     \u001B[38;5;28;01mreturn\u001B[39;00m \u001B[38;5;124m\"\u001B[39m\u001B[38;5;132;01m%s\u001B[39;00m\u001B[38;5;124m(name=\u001B[39m\u001B[38;5;132;01m%r\u001B[39;00m\u001B[38;5;124m, hp=\u001B[39m\u001B[38;5;132;01m%r\u001B[39;00m\u001B[38;5;124m, ac=\u001B[39m\u001B[38;5;132;01m%r\u001B[39;00m\u001B[38;5;124m, attacks=\u001B[39m\u001B[38;5;132;01m%r\u001B[39;00m\u001B[38;5;124m)\u001B[39m\u001B[38;5;124m\"\u001B[39m \u001B[38;5;241m%\u001B[39m (\n\u001B[1;32m     11\u001B[0m        \u001B[38;5;28mself\u001B[39m\u001B[38;5;241m.\u001B[39m\u001B[38;5;18m__class__\u001B[39m\u001B[38;5;241m.\u001B[39m\u001B[38;5;18m__name__\u001B[39m, \u001B[38;5;28mself\u001B[39m\u001B[38;5;241m.\u001B[39mname, \u001B[38;5;28mself\u001B[39m\u001B[38;5;241m.\u001B[39mhp, \u001B[38;5;28mself\u001B[39m\u001B[38;5;241m.\u001B[39mac,\n\u001B[1;32m     12\u001B[0m        \u001B[38;5;28mself\u001B[39m\u001B[38;5;241m.\u001B[39mattacks)\n\u001B[0;32m---> 14\u001B[0m \u001B[43myaml\u001B[49m\u001B[38;5;241;43m.\u001B[39;49m\u001B[43mload\u001B[49m\u001B[43m(\u001B[49m\u001B[38;5;124;43m\"\"\"\u001B[39;49m\n\u001B[1;32m     15\u001B[0m \u001B[38;5;124;43m--- !Monster\u001B[39;49m\n\u001B[1;32m     16\u001B[0m \u001B[38;5;124;43mname: Cave spider\u001B[39;49m\n\u001B[1;32m     17\u001B[0m \u001B[38;5;124;43mhp: [2,6]    # 2d6\u001B[39;49m\n\u001B[1;32m     18\u001B[0m \u001B[38;5;124;43mac: 16\u001B[39;49m\n\u001B[1;32m     19\u001B[0m \u001B[38;5;124;43mattacks: [BITE, HURT]\u001B[39;49m\n\u001B[1;32m     20\u001B[0m \u001B[38;5;124;43m\"\"\"\u001B[39;49m\u001B[43m)\u001B[49m\n\u001B[1;32m     22\u001B[0m Monster(name\u001B[38;5;241m=\u001B[39m\u001B[38;5;124m'\u001B[39m\u001B[38;5;124mCave spider\u001B[39m\u001B[38;5;124m'\u001B[39m, hp\u001B[38;5;241m=\u001B[39m[\u001B[38;5;241m2\u001B[39m, \u001B[38;5;241m6\u001B[39m], ac\u001B[38;5;241m=\u001B[39m\u001B[38;5;241m16\u001B[39m, attacks\u001B[38;5;241m=\u001B[39m[\u001B[38;5;124m'\u001B[39m\u001B[38;5;124mBITE\u001B[39m\u001B[38;5;124m'\u001B[39m, \u001B[38;5;124m'\u001B[39m\u001B[38;5;124mHURT\u001B[39m\u001B[38;5;124m'\u001B[39m])\n\u001B[1;32m     24\u001B[0m \u001B[38;5;28mprint\u001B[39m(yaml\u001B[38;5;241m.\u001B[39mdump(Monster(\n\u001B[1;32m     25\u001B[0m     name\u001B[38;5;241m=\u001B[39m\u001B[38;5;124m'\u001B[39m\u001B[38;5;124mCave lizard\u001B[39m\u001B[38;5;124m'\u001B[39m, hp\u001B[38;5;241m=\u001B[39m[\u001B[38;5;241m3\u001B[39m,\u001B[38;5;241m6\u001B[39m], ac\u001B[38;5;241m=\u001B[39m\u001B[38;5;241m16\u001B[39m, attacks\u001B[38;5;241m=\u001B[39m[\u001B[38;5;124m'\u001B[39m\u001B[38;5;124mBITE\u001B[39m\u001B[38;5;124m'\u001B[39m,\u001B[38;5;124m'\u001B[39m\u001B[38;5;124mHURT\u001B[39m\u001B[38;5;124m'\u001B[39m])))\n",
      "\u001B[0;31mTypeError\u001B[0m: load() missing 1 required positional argument: 'Loader'"
     ]
    }
   ],
   "source": [
    "import yaml\n",
    "class Monster(yaml.YAMLObject):\n",
    "  yaml_tag = u'!Monster'\n",
    "  def __init__(self, name, hp, ac, attacks):\n",
    "    self.name = name\n",
    "    self.hp = hp\n",
    "    self.ac = ac\n",
    "    self.attacks = attacks\n",
    "  def __repr__(self):\n",
    "    return \"%s(name=%r, hp=%r, ac=%r, attacks=%r)\" % (\n",
    "       self.__class__.__name__, self.name, self.hp, self.ac,\n",
    "       self.attacks)\n",
    "\n",
    "yaml.load(\n",
    "\"\"\"\n",
    "--- !Monster\n",
    "name: Cave spider\n",
    "hp: [2,6]    # 2d6\n",
    "ac: 16\n",
    "attacks: [BITE, HURT]\n",
    "\"\"\")\n",
    "\n",
    "Monster(name='Cave spider', hp=[2, 6], ac=16, attacks=['BITE', 'HURT'])\n",
    "\n",
    "print(yaml.dump(Monster(\n",
    "    name='Cave lizard', hp=[3,6], ac=16, attacks=['BITE','HURT'])))"
   ],
   "metadata": {
    "collapsed": false
   }
  },
  {
   "cell_type": "code",
   "execution_count": null,
   "outputs": [],
   "source": [],
   "metadata": {
    "collapsed": false
   }
  },
  {
   "cell_type": "code",
   "execution_count": 34,
   "outputs": [
    {
     "name": "stdout",
     "output_type": "stream",
     "text": [
      "<class '__main__.MyClass'>\n",
      "<class 'type'>\n"
     ]
    }
   ],
   "source": [
    "class MyClass:\n",
    "    pass\n",
    "\n",
    "instance = MyClass()\n",
    "print(type(instance))\n",
    "print(type(MyClass))"
   ],
   "metadata": {
    "collapsed": false
   }
  },
  {
   "cell_type": "code",
   "execution_count": 35,
   "outputs": [
    {
     "name": "stdout",
     "output_type": "stream",
     "text": [
      "<class '__main__.MyClass'> <__main__.MyClass object at 0x7fc4b6f7b610>\n",
      "1\n"
     ]
    }
   ],
   "source": [
    "class MyClass:\n",
    "    data = 1\n",
    "\n",
    "instance = MyClass()\n",
    "print(MyClass, instance)\n",
    "print(instance.data)"
   ],
   "metadata": {
    "collapsed": false
   }
  },
  {
   "cell_type": "code",
   "execution_count": 37,
   "outputs": [
    {
     "name": "stdout",
     "output_type": "stream",
     "text": [
      "<class '__main__.MyClass'> <__main__.MyClass object at 0x7fc4b6f472b0>\n"
     ]
    }
   ],
   "source": [
    "MyClass = type('MyClass', (), {'data':1})\n",
    "instance = MyClass()\n",
    "print(MyClass, instance)"
   ],
   "metadata": {
    "collapsed": false
   }
  },
  {
   "cell_type": "code",
   "execution_count": 39,
   "outputs": [
    {
     "name": "stdout",
     "output_type": "stream",
     "text": [
      "1234 is iterable? False\n",
      "1234 is iterable? True\n",
      "[1, 2, 3, 4] is iterable? True\n",
      "{1, 2, 3, 4} is iterable? True\n",
      "{1: 1, 2: 2, 3: 3, 4: 4} is iterable? True\n",
      "(1, 2, 3, 4) is iterable? True\n"
     ]
    }
   ],
   "source": [
    "def is_iterable(param):\n",
    "    try:\n",
    "        iter(param)\n",
    "        return True\n",
    "    except TypeError:\n",
    "        return False\n",
    "\n",
    "params = [\n",
    "    1234,\n",
    "    '1234',\n",
    "    [1, 2, 3, 4],\n",
    "    set([1, 2, 3, 4]),\n",
    "    {1:1, 2:2, 3:3, 4:4},\n",
    "    (1, 2, 3, 4)\n",
    "]\n",
    "\n",
    "for i in params:\n",
    "    print(f\"{i} is iterable? {is_iterable(i)}\")"
   ],
   "metadata": {
    "collapsed": false
   }
  },
  {
   "cell_type": "code",
   "execution_count": 1,
   "outputs": [
    {
     "name": "stdout",
     "output_type": "stream",
     "text": [
      "initing iterator memory used: 47.90625 MB\n",
      "after iterator initiated memory used: 2058.5078125 MB\n",
      "4999999950000000\n",
      "after sum called memory used: 3888.28125 MB\n",
      "initing generator memory used: 30.125 MB\n",
      "after generator initiated memory used: 30.125 MB\n",
      "4999999950000000\n",
      "after sum called memory used: 30.21484375 MB\n"
     ]
    }
   ],
   "source": [
    "import os\n",
    "import psutil\n",
    "\n",
    "def show_memory_info(hint):\n",
    "    pid = os.getpid()\n",
    "    p = psutil.Process(pid)\n",
    "    info = p.memory_full_info()\n",
    "    memory = info.uss / 1024. / 1024\n",
    "    print(f\"{hint} memory used: {memory} MB\")\n",
    "\n",
    "\n",
    "def test_iterator():\n",
    "    show_memory_info('initing iterator')\n",
    "    list_1 = [i for i in range(100000000)]\n",
    "    show_memory_info('after iterator initiated')\n",
    "    print(sum(list_1))\n",
    "    show_memory_info('after sum called')\n",
    "\n",
    "def test_generator():\n",
    "    show_memory_info('initing generator')\n",
    "    list_2 = (i for i in range(100000000))\n",
    "    show_memory_info('after generator initiated')\n",
    "    print(sum(list_2))\n",
    "    show_memory_info('after sum called')\n",
    "\n",
    "test_iterator()\n",
    "test_generator()"
   ],
   "metadata": {
    "collapsed": false
   }
  },
  {
   "cell_type": "code",
   "execution_count": 16,
   "outputs": [
    {
     "name": "stdout",
     "output_type": "stream",
     "text": [
      "crawling url_1\n",
      "ok url_1\n",
      "crawling url_2\n",
      "ok url_2\n",
      "crawling url_3\n",
      "ok url_3\n",
      "crawling url_4\n",
      "ok url_4\n",
      "crawling url_5\n",
      "ok url_5\n",
      "crawling url_6\n",
      "ok url_6\n",
      "crawling url_7\n",
      "ok url_7\n",
      "CPU times: user 6.64 ms, sys: 2.57 ms, total: 9.21 ms\n",
      "Wall time: 28 s\n",
      "None\n"
     ]
    }
   ],
   "source": [
    "import time\n",
    "\n",
    "def crawl_page(url):\n",
    "    print(f\"crawling {url}\")\n",
    "    sleep_time = int(url.split('_')[-1])\n",
    "    time.sleep(sleep_time)\n",
    "    print(f\"ok {url}\")\n",
    "\n",
    "def main(urls):\n",
    "    for url in urls:\n",
    "        crawl_page(url)\n",
    "\n",
    "%time main(['url_1', 'url_2', 'url_3', 'url_4', 'url_5', 'url_6', 'url_7'])\n",
    "print(main(''))"
   ],
   "metadata": {
    "collapsed": false
   }
  },
  {
   "cell_type": "code",
   "execution_count": 21,
   "outputs": [
    {
     "name": "stdout",
     "output_type": "stream",
     "text": [
      "crawling url_1\n",
      "OK url_1\n",
      "crawling url_2\n",
      "OK url_2\n",
      "crawling url_3\n",
      "OK url_3\n",
      "crawling url_4\n",
      "OK url_4\n",
      "crawling url_5\n",
      "OK url_5\n",
      "crawling url_6\n",
      "OK url_6\n",
      "crawling url_7\n",
      "OK url_7\n",
      "<coroutine object main_async at 0x7fdb5509c8c0>\n",
      "<coroutine object crawl_page_async at 0x7fdb5509c8c0>\n"
     ]
    },
    {
     "name": "stderr",
     "output_type": "stream",
     "text": [
      "/var/folders/05/xk850z3d6q904bqtx0pqjr7w0000gn/T/ipykernel_2126/1518427547.py:16: RuntimeWarning: coroutine 'main_async' was never awaited\n",
      "  print(main_async(''))\n",
      "RuntimeWarning: Enable tracemalloc to get the object allocation traceback\n",
      "/var/folders/05/xk850z3d6q904bqtx0pqjr7w0000gn/T/ipykernel_2126/1518427547.py:17: RuntimeWarning: coroutine 'crawl_page_async' was never awaited\n",
      "  print(crawl_page_async('_1'))\n",
      "RuntimeWarning: Enable tracemalloc to get the object allocation traceback\n"
     ]
    }
   ],
   "source": [
    "\n",
    "import asyncio\n",
    "\n",
    "async def crawl_page_async(url):\n",
    "    print('crawling {}'.format(url))\n",
    "    sleep_time = int(url.split('_')[-1])\n",
    "    await asyncio.sleep(sleep_time)\n",
    "    print('OK {}'.format(url))\n",
    "\n",
    "async def main_async(urls):\n",
    "    for url in urls:\n",
    "        await crawl_page_async(url)\n",
    "\n",
    "await main_async(['url_1', 'url_2', 'url_3', 'url_4', 'url_5', 'url_6', 'url_7'])\n",
    "\n",
    "########## 输出 ##########\n",
    "print(main_async(''))\n",
    "print(crawl_page_async('_1'))"
   ],
   "metadata": {
    "collapsed": false
   }
  },
  {
   "cell_type": "code",
   "execution_count": 24,
   "outputs": [
    {
     "name": "stdout",
     "output_type": "stream",
     "text": [
      "crawling url_1\n",
      "crawling url_2\n",
      "crawling url_3\n",
      "crawling url_4\n",
      "crawling url_5\n",
      "crawling url_6\n",
      "crawling url_7\n",
      "OK url_1\n",
      "OK url_2\n",
      "OK url_3\n",
      "OK url_4\n",
      "OK url_5\n",
      "OK url_6\n",
      "OK url_7\n",
      "<coroutine object main_async at 0x7fdb5509ca40>\n",
      "<coroutine object crawl_page_async at 0x7fdb5509ca40>\n"
     ]
    },
    {
     "name": "stderr",
     "output_type": "stream",
     "text": [
      "/var/folders/05/xk850z3d6q904bqtx0pqjr7w0000gn/T/ipykernel_2126/867844277.py:15: RuntimeWarning: coroutine 'main_async' was never awaited\n",
      "  print(main_async('')) # <coroutine object main_async at 0x7fdb53f0f940>\n",
      "RuntimeWarning: Enable tracemalloc to get the object allocation traceback\n",
      "/var/folders/05/xk850z3d6q904bqtx0pqjr7w0000gn/T/ipykernel_2126/867844277.py:16: RuntimeWarning: coroutine 'crawl_page_async' was never awaited\n",
      "  print(crawl_page_async('_1')) # <coroutine object crawl_page_async at 0x7fdb5502ae40>\n",
      "RuntimeWarning: Enable tracemalloc to get the object allocation traceback\n"
     ]
    }
   ],
   "source": [
    "import asyncio\n",
    "\n",
    "async def crawl_page_async(url):\n",
    "    print('crawling {}'.format(url))\n",
    "    sleep_time = int(url.split('_')[-1])\n",
    "    await asyncio.sleep(sleep_time)\n",
    "    print('OK {}'.format(url))\n",
    "\n",
    "async def main_async(urls):\n",
    "    tasks = [asyncio.create_task(crawl_page_async(url)) for url in urls]\n",
    "    for task in tasks:\n",
    "        await task\n",
    "\n",
    "await main_async(['url_1', 'url_2', 'url_3', 'url_4', 'url_5', 'url_6', 'url_7'])\n",
    "print(main_async('')) # <coroutine object main_async at 0x7fdb53f0f940>\n",
    "print(crawl_page_async('_1')) # <coroutine object crawl_page_async at 0x7fdb5502ae40>"
   ],
   "metadata": {
    "collapsed": false
   }
  },
  {
   "cell_type": "code",
   "execution_count": 25,
   "outputs": [
    {
     "name": "stdout",
     "output_type": "stream",
     "text": [
      "crawling url_1\n",
      "crawling url_2\n",
      "crawling url_3\n",
      "crawling url_4\n",
      "crawling url_5\n",
      "crawling url_6\n",
      "crawling url_7\n",
      "OK url_1\n",
      "OK url_2\n",
      "OK url_3\n",
      "OK url_4\n",
      "OK url_5\n",
      "OK url_6\n",
      "OK url_7\n",
      "<coroutine object main_async at 0x7fdb55095140>\n",
      "<coroutine object crawl_page_async at 0x7fdb55095140>\n"
     ]
    },
    {
     "name": "stderr",
     "output_type": "stream",
     "text": [
      "/var/folders/05/xk850z3d6q904bqtx0pqjr7w0000gn/T/ipykernel_2126/1696052151.py:14: RuntimeWarning: coroutine 'main_async' was never awaited\n",
      "  print(main_async('')) # <coroutine object main_async at 0x7fdb53f0f940>\n",
      "RuntimeWarning: Enable tracemalloc to get the object allocation traceback\n",
      "/var/folders/05/xk850z3d6q904bqtx0pqjr7w0000gn/T/ipykernel_2126/1696052151.py:15: RuntimeWarning: coroutine 'crawl_page_async' was never awaited\n",
      "  print(crawl_page_async('_1')) # <coroutine object crawl_page_async at 0x7fdb5502ae40>\n",
      "RuntimeWarning: Enable tracemalloc to get the object allocation traceback\n"
     ]
    }
   ],
   "source": [
    "import asyncio\n",
    "\n",
    "async def crawl_page_async(url):\n",
    "    print('crawling {}'.format(url))\n",
    "    sleep_time = int(url.split('_')[-1])\n",
    "    await asyncio.sleep(sleep_time)\n",
    "    print('OK {}'.format(url))\n",
    "\n",
    "async def main_async(urls):\n",
    "    tasks = [asyncio.create_task(crawl_page_async(url)) for url in urls]\n",
    "    await asyncio.gather(*tasks)\n",
    "\n",
    "await main_async(['url_1', 'url_2', 'url_3', 'url_4', 'url_5', 'url_6', 'url_7'])\n",
    "print(main_async('')) # <coroutine object main_async at 0x7fdb53f0f940>\n",
    "print(crawl_page_async('_1')) # <coroutine object crawl_page_async at 0x7fdb5502ae40>"
   ],
   "metadata": {
    "collapsed": false
   }
  },
  {
   "cell_type": "code",
   "execution_count": 28,
   "outputs": [
    {
     "name": "stdout",
     "output_type": "stream",
     "text": [
      "before await\n",
      "worker_1 start\n",
      "worker_1 done\n",
      "awaited worker_1\n",
      "worker_2 start\n",
      "worker_2 done\n",
      "awaited worker_2\n"
     ]
    }
   ],
   "source": [
    "import asyncio\n",
    "\n",
    "async def worker_1():\n",
    "    print('worker_1 start')\n",
    "    await asyncio.sleep(1)\n",
    "    print('worker_1 done')\n",
    "\n",
    "async def worker_2():\n",
    "    print('worker_2 start')\n",
    "    await asyncio.sleep(2)\n",
    "    print('worker_2 done')\n",
    "\n",
    "async def main():\n",
    "    print('before await')\n",
    "    await worker_1()\n",
    "    print('awaited worker_1')\n",
    "    await worker_2()\n",
    "    print('awaited worker_2')\n",
    "\n",
    "await main()"
   ],
   "metadata": {
    "collapsed": false
   }
  },
  {
   "cell_type": "code",
   "execution_count": 29,
   "outputs": [
    {
     "name": "stdout",
     "output_type": "stream",
     "text": [
      "before await\n",
      "worker_1 start\n",
      "worker_2 start\n",
      "worker_1 done\n",
      "awaited worker_1\n",
      "worker_2 done\n",
      "awaited worker_2\n"
     ]
    }
   ],
   "source": [
    "import asyncio\n",
    "\n",
    "async def worker_1():\n",
    "    print('worker_1 start')\n",
    "    await asyncio.sleep(1)\n",
    "    print('worker_1 done')\n",
    "\n",
    "async def worker_2():\n",
    "    print('worker_2 start')\n",
    "    await asyncio.sleep(2)\n",
    "    print('worker_2 done')\n",
    "\n",
    "async def main():\n",
    "    task1 = asyncio.create_task(worker_1())\n",
    "    task2 = asyncio.create_task(worker_2())\n",
    "    print('before await')\n",
    "    await task1\n",
    "    print('awaited worker_1')\n",
    "    await task2\n",
    "    print('awaited worker_2')\n",
    "\n",
    "await main()"
   ],
   "metadata": {
    "collapsed": false
   }
  },
  {
   "cell_type": "code",
   "execution_count": 36,
   "outputs": [
    {
     "name": "stdout",
     "output_type": "stream",
     "text": [
      "扫黑行动 11月11日 https://img9.doubanio.com/view/photo/s_ratio_poster/public/p2883219876.jpg\n",
      "陪你在全世界长大 11月11日 https://img2.doubanio.com/view/photo/s_ratio_poster/public/p2879590432.jpg\n",
      "叫我郑先生 11月11日 https://img2.doubanio.com/view/photo/s_ratio_poster/public/p2882858722.jpg\n",
      "你好，珠峰 11月11日 https://img1.doubanio.com/view/photo/s_ratio_poster/public/p2882856388.jpg\n",
      "我们正年轻 11月11日 https://img1.doubanio.com/view/photo/s_ratio_poster/public/p2829300519.jpg\n",
      "浏阳河上 11月11日 https://img2.doubanio.com/view/photo/s_ratio_poster/public/p2831086052.jpg\n",
      "天之书 11月12日 https://img1.doubanio.com/view/photo/s_ratio_poster/public/p2880250328.jpg\n",
      "您好，北京 11月18日 https://img1.doubanio.com/view/photo/s_ratio_poster/public/p2882109748.jpg\n",
      "个十百千万 11月18日 https://img9.doubanio.com/view/photo/s_ratio_poster/public/p2883212096.jpg\n",
      "让这首歌作证 11月18日 https://img9.doubanio.com/view/photo/s_ratio_poster/public/p2882862234.jpg\n",
      "绑架游戏 12月23日 https://img1.doubanio.com/view/photo/s_ratio_poster/public/p2869898539.jpg\n",
      "龙马精神 12月31日 https://img3.doubanio.com/view/photo/s_ratio_poster/public/p2880320460.jpg\n",
      "保你平安 12月31日 https://img1.doubanio.com/view/photo/s_ratio_poster/public/p2882690157.jpg\n",
      "透明侠侣 12月31日 https://img1.doubanio.com/view/photo/s_ratio_poster/public/p2876027489.jpg\n",
      "绝望主夫 12月31日 https://img9.doubanio.com/view/photo/s_ratio_poster/public/p2882513134.jpg\n",
      "CPU times: user 586 ms, sys: 22.9 ms, total: 609 ms\n",
      "Wall time: 11.5 s\n"
     ]
    }
   ],
   "source": [
    "import requests\n",
    "from bs4 import BeautifulSoup\n",
    "\n",
    "def main():\n",
    "    headers = {\n",
    "    'Host':'movie.douban.com',\n",
    "    'User-Agent':'Mozilla/5.0 (Macintosh; Intel Mac OS X 10_15_7) AppleWebKit/537.36 (KHTML, like Gecko) Chrome/107.0.0.0 Safari/537.36',\n",
    "    'Cookie':'bid=F1l4ghtrj_4; ap_v=0,6.0; _pk_id.100001.4cf6=7931be2691d5364a.1667973825.1.1667973825.1667973825.; _pk_ses.100001.4cf6=*; __utma=30149280.1548109094.1667973825.1667973825.1667973825.1; __utmb=30149280.0.10.1667973825; __utmc=30149280; __utmz=30149280.1667973825.1.1.utmcsr=(direct)|utmccn=(direct)|utmcmd=(none); __utma=223695111.1889506471.1667973825.1667973825.1667973825.1; __utmb=223695111.0.10.1667973825; __utmc=223695111; __utmz=223695111.1667973825.1.1.utmcsr=(direct)|utmccn=(direct)|utmcmd=(none)'\n",
    "    }\n",
    "    url = \"https://movie.douban.com/cinema/later/beijing/\"\n",
    "    init_page = requests.get(url, headers=headers).content\n",
    "    init_soup = BeautifulSoup(init_page, 'lxml')\n",
    "    all_movies = init_soup.find('div', id=\"showing-soon\")\n",
    "    for each_movie in all_movies.find_all('div', class_=\"item\"):\n",
    "        all_a_tag = each_movie.find_all('a')\n",
    "        all_li_tag = each_movie.find_all('li')\n",
    "\n",
    "        movie_name = all_a_tag[1].text\n",
    "        url_to_fetch = all_a_tag[1]['href']\n",
    "        movie_date = all_li_tag[0].text\n",
    "\n",
    "        response_item = requests.get(url_to_fetch, headers=headers).content\n",
    "        soup_item = BeautifulSoup(response_item, 'lxml')\n",
    "        img_tag = soup_item.find('img')\n",
    "\n",
    "        print('{} {} {}'.format(movie_name, movie_date, img_tag['src']))\n",
    "\n",
    "%time main()"
   ],
   "metadata": {
    "collapsed": false
   }
  },
  {
   "cell_type": "code",
   "execution_count": 1,
   "outputs": [
    {
     "name": "stdout",
     "output_type": "stream",
     "text": [
      "扫黑行动 11月11日 https://img9.doubanio.com/view/photo/s_ratio_poster/public/p2883219876.jpg\n",
      "陪你在全世界长大 11月11日 https://img2.doubanio.com/view/photo/s_ratio_poster/public/p2879590432.jpg\n",
      "叫我郑先生 11月11日 https://img2.doubanio.com/view/photo/s_ratio_poster/public/p2882858722.jpg\n",
      "你好，珠峰 11月11日 https://img1.doubanio.com/view/photo/s_ratio_poster/public/p2882856388.jpg\n",
      "我们正年轻 11月11日 https://img1.doubanio.com/view/photo/s_ratio_poster/public/p2829300519.jpg\n",
      "浏阳河上 11月11日 https://img2.doubanio.com/view/photo/s_ratio_poster/public/p2831086052.jpg\n",
      "天之书 11月12日 https://img1.doubanio.com/view/photo/s_ratio_poster/public/p2880250328.jpg\n",
      "您好，北京 11月18日 https://img1.doubanio.com/view/photo/s_ratio_poster/public/p2882109748.jpg\n",
      "个十百千万 11月18日 https://img9.doubanio.com/view/photo/s_ratio_poster/public/p2883212096.jpg\n",
      "让这首歌作证 11月18日 https://img9.doubanio.com/view/photo/s_ratio_poster/public/p2882862234.jpg\n",
      "绑架游戏 12月23日 https://img1.doubanio.com/view/photo/s_ratio_poster/public/p2869898539.jpg\n",
      "龙马精神 12月31日 https://img3.doubanio.com/view/photo/s_ratio_poster/public/p2880320460.jpg\n",
      "保你平安 12月31日 https://img1.doubanio.com/view/photo/s_ratio_poster/public/p2882690157.jpg\n",
      "透明侠侣 12月31日 https://img1.doubanio.com/view/photo/s_ratio_poster/public/p2876027489.jpg\n",
      "绝望主夫 12月31日 https://img9.doubanio.com/view/photo/s_ratio_poster/public/p2882513134.jpg\n"
     ]
    }
   ],
   "source": [
    "import asyncio\n",
    "import aiohttp\n",
    "\n",
    "from bs4 import BeautifulSoup\n",
    "\n",
    "\n",
    "async def fetch_content(url):\n",
    "    headers = {\n",
    "        'Host': 'movie.douban.com',\n",
    "        'User-Agent': 'Mozilla/5.0 (Macintosh; Intel Mac OS X 10_15_7) AppleWebKit/537.36 (KHTML, like Gecko) Chrome/107.0.0.0 Safari/537.36',\n",
    "        'Cookie': 'bid=F1l4ghtrj_4; ap_v=0,6.0; _pk_id.100001.4cf6=7931be2691d5364a.1667973825.1.1667973825.1667973825.; _pk_ses.100001.4cf6=*; __utma=30149280.1548109094.1667973825.1667973825.1667973825.1; __utmb=30149280.0.10.1667973825; __utmc=30149280; __utmz=30149280.1667973825.1.1.utmcsr=(direct)|utmccn=(direct)|utmcmd=(none); __utma=223695111.1889506471.1667973825.1667973825.1667973825.1; __utmb=223695111.0.10.1667973825; __utmc=223695111; __utmz=223695111.1667973825.1.1.utmcsr=(direct)|utmccn=(direct)|utmcmd=(none)'\n",
    "    }\n",
    "    async with aiohttp.ClientSession(\n",
    "            headers=headers, connector=aiohttp.TCPConnector(ssl=False)\n",
    "    ) as session:\n",
    "        async with session.get(url) as response:\n",
    "            return await response.text()\n",
    "\n",
    "\n",
    "async def main():\n",
    "    url = \"https://movie.douban.com/cinema/later/hangzhou/\"\n",
    "    init_page = await fetch_content(url)\n",
    "    init_soup = BeautifulSoup(init_page, 'lxml')\n",
    "\n",
    "    movie_names, urls_to_fetch, movie_dates = [], [], []\n",
    "\n",
    "    all_movies = init_soup.find('div', id=\"showing-soon\")\n",
    "    for each_movie in all_movies.find_all('div', class_=\"item\"):\n",
    "        all_a_tag = each_movie.find_all('a')\n",
    "        all_li_tag = each_movie.find_all('li')\n",
    "\n",
    "        movie_names.append(all_a_tag[1].text)\n",
    "        urls_to_fetch.append(all_a_tag[1]['href'])\n",
    "        movie_dates.append(all_li_tag[0].text)\n",
    "\n",
    "    tasks = [fetch_content(url) for url in urls_to_fetch]\n",
    "    pages = await asyncio.gather(*tasks)\n",
    "\n",
    "    for movie_name, movie_date, page in zip(movie_names, movie_dates, pages):\n",
    "        soup_item = BeautifulSoup(page, 'lxml')\n",
    "        img_tag = soup_item.find('img')\n",
    "\n",
    "        print('{} {} {}'.format(movie_name, movie_date, img_tag['src']))\n",
    "\n",
    "\n",
    "await main()"
   ],
   "metadata": {
    "collapsed": false
   }
  },
  {
   "cell_type": "code",
   "execution_count": 7,
   "outputs": [
    {
     "name": "stdout",
     "output_type": "stream",
     "text": [
      "Read 252633 from https://en.wikipedia.org/wiki/Portal:Arts\n",
      "Read 402590 from https://en.wikipedia.org/wiki/Portal:History\n",
      "Read 291462 from https://en.wikipedia.org/wiki/Portal:Society\n",
      "Read 451448 from https://en.wikipedia.org/wiki/Portal:Biography\n",
      "Read 386888 from https://en.wikipedia.org/wiki/Portal:Mathematics\n",
      "Read 361405 from https://en.wikipedia.org/wiki/Portal:Technology\n",
      "Read 408164 from https://en.wikipedia.org/wiki/Portal:Geography\n",
      "Read 303141 from https://en.wikipedia.org/wiki/Portal:Science\n",
      "Read 384732 from https://en.wikipedia.org/wiki/Computer_science\n",
      "Read 575710 from https://en.wikipedia.org/wiki/Python_(programming_language)\n",
      "Read 348951 from https://en.wikipedia.org/wiki/Java_(programming_language)\n",
      "Read 580856 from https://en.wikipedia.org/wiki/PHP\n",
      "Read 201636 from https://en.wikipedia.org/wiki/Node.js\n",
      "Read 67933 from https://en.wikipedia.org/wiki/The_C_Programming_Language\n",
      "Read 377800 from https://en.wikipedia.org/wiki/Go_(programming_language)\n",
      "Download 15 sites in 10.530388624999432 seconds\n"
     ]
    }
   ],
   "source": [
    "import requests\n",
    "import time\n",
    "\n",
    "def download_one(url):\n",
    "    resp = requests.get(url)\n",
    "    print('Read {} from {}'.format(len(resp.content), url))\n",
    "\n",
    "def download_all(sites):\n",
    "    for site in sites:\n",
    "        download_one(site)\n",
    "\n",
    "def main():\n",
    "    sites = [\n",
    "        'https://en.wikipedia.org/wiki/Portal:Arts',\n",
    "        'https://en.wikipedia.org/wiki/Portal:History',\n",
    "        'https://en.wikipedia.org/wiki/Portal:Society',\n",
    "        'https://en.wikipedia.org/wiki/Portal:Biography',\n",
    "        'https://en.wikipedia.org/wiki/Portal:Mathematics',\n",
    "        'https://en.wikipedia.org/wiki/Portal:Technology',\n",
    "        'https://en.wikipedia.org/wiki/Portal:Geography',\n",
    "        'https://en.wikipedia.org/wiki/Portal:Science',\n",
    "        'https://en.wikipedia.org/wiki/Computer_science',\n",
    "        'https://en.wikipedia.org/wiki/Python_(programming_language)',\n",
    "        'https://en.wikipedia.org/wiki/Java_(programming_language)',\n",
    "        'https://en.wikipedia.org/wiki/PHP',\n",
    "        'https://en.wikipedia.org/wiki/Node.js',\n",
    "        'https://en.wikipedia.org/wiki/The_C_Programming_Language',\n",
    "        'https://en.wikipedia.org/wiki/Go_(programming_language)'\n",
    "    ]\n",
    "    start_time = time.perf_counter()\n",
    "    download_all(sites)\n",
    "    end_time = time.perf_counter()\n",
    "    print('Download {} sites in {} seconds'.format(len(sites), end_time - start_time))\n",
    "\n",
    "if __name__ == '__main__':\n",
    "    main()"
   ],
   "metadata": {
    "collapsed": false
   }
  },
  {
   "cell_type": "code",
   "execution_count": 6,
   "outputs": [
    {
     "name": "stdout",
     "output_type": "stream",
     "text": [
      "Read 291462 from https://en.wikipedia.org/wiki/Portal:Society\n",
      "Read 252633 from https://en.wikipedia.org/wiki/Portal:Arts\n",
      "Read 386888 from https://en.wikipedia.org/wiki/Portal:Mathematics\n",
      "Read 402590 from https://en.wikipedia.org/wiki/Portal:History\n",
      "Read 451448 from https://en.wikipedia.org/wiki/Portal:Biography\n",
      "Read 361405 from https://en.wikipedia.org/wiki/Portal:Technology\n",
      "Read 408164 from https://en.wikipedia.org/wiki/Portal:Geography\n",
      "Read 303141 from https://en.wikipedia.org/wiki/Portal:Science\n",
      "Read 384732 from https://en.wikipedia.org/wiki/Computer_science\n",
      "Read 575710 from https://en.wikipedia.org/wiki/Python_(programming_language)\n",
      "Read 201636 from https://en.wikipedia.org/wiki/Node.js\n",
      "Read 348951 from https://en.wikipedia.org/wiki/Java_(programming_language)\n",
      "Read 67933 from https://en.wikipedia.org/wiki/The_C_Programming_Language\n",
      "Read 580856 from https://en.wikipedia.org/wiki/PHP\n",
      "Read 377800 from https://en.wikipedia.org/wiki/Go_(programming_language)\n",
      "Download 15 sites in 2.2561270750002222 seconds\n"
     ]
    }
   ],
   "source": [
    "import concurrent.futures\n",
    "import requests\n",
    "import threading\n",
    "import time\n",
    "\n",
    "def download_one(url):\n",
    "    resp = requests.get(url)\n",
    "    print('Read {} from {}'.format(len(resp.content), url))\n",
    "\n",
    "\n",
    "def download_all(sites):\n",
    "    with concurrent.futures.ThreadPoolExecutor(max_workers=5) as executor:\n",
    "        executor.map(download_one, sites)\n",
    "\n",
    "def main():\n",
    "    sites = [\n",
    "        'https://en.wikipedia.org/wiki/Portal:Arts',\n",
    "        'https://en.wikipedia.org/wiki/Portal:History',\n",
    "        'https://en.wikipedia.org/wiki/Portal:Society',\n",
    "        'https://en.wikipedia.org/wiki/Portal:Biography',\n",
    "        'https://en.wikipedia.org/wiki/Portal:Mathematics',\n",
    "        'https://en.wikipedia.org/wiki/Portal:Technology',\n",
    "        'https://en.wikipedia.org/wiki/Portal:Geography',\n",
    "        'https://en.wikipedia.org/wiki/Portal:Science',\n",
    "        'https://en.wikipedia.org/wiki/Computer_science',\n",
    "        'https://en.wikipedia.org/wiki/Python_(programming_language)',\n",
    "        'https://en.wikipedia.org/wiki/Java_(programming_language)',\n",
    "        'https://en.wikipedia.org/wiki/PHP',\n",
    "        'https://en.wikipedia.org/wiki/Node.js',\n",
    "        'https://en.wikipedia.org/wiki/The_C_Programming_Language',\n",
    "        'https://en.wikipedia.org/wiki/Go_(programming_language)'\n",
    "    ]\n",
    "    start_time = time.perf_counter()\n",
    "    download_all(sites)\n",
    "    end_time = time.perf_counter()\n",
    "    print('Download {} sites in {} seconds'.format(len(sites), end_time - start_time))\n",
    "\n",
    "if __name__ == '__main__':\n",
    "    main()"
   ],
   "metadata": {
    "collapsed": false
   }
  },
  {
   "cell_type": "code",
   "execution_count": 8,
   "outputs": [
    {
     "name": "stdout",
     "output_type": "stream",
     "text": [
      "Read 291462 from https://en.wikipedia.org/wiki/Portal:Society\n",
      "Read 252633 from https://en.wikipedia.org/wiki/Portal:Arts\n",
      "Read 402590 from https://en.wikipedia.org/wiki/Portal:History\n",
      "Read 451448 from https://en.wikipedia.org/wiki/Portal:Biography\n",
      "Read 408164 from https://en.wikipedia.org/wiki/Portal:Geography\n",
      "Read 384732 from https://en.wikipedia.org/wiki/Computer_science\n",
      "Read 575710 from https://en.wikipedia.org/wiki/Python_(programming_language)\n",
      "Read 348951 from https://en.wikipedia.org/wiki/Java_(programming_language)\n",
      "Read 580856 from https://en.wikipedia.org/wiki/PHP\n",
      "Read 201636 from https://en.wikipedia.org/wiki/Node.js\n",
      "Read 67933 from https://en.wikipedia.org/wiki/The_C_Programming_Language\n",
      "Read 377800 from https://en.wikipedia.org/wiki/Go_(programming_language)\n",
      "Read 368017 from https://en.wikipedia.org/wiki/Portal:Mathematics\n",
      "Read 359677 from https://en.wikipedia.org/wiki/Portal:Technology\n",
      "Read 299398 from https://en.wikipedia.org/wiki/Portal:Science\n",
      "Download 15 sites in 9.029956223999761 seconds\n"
     ]
    }
   ],
   "source": [
    "import concurrent.futures\n",
    "import requests\n",
    "import time\n",
    "\n",
    "def download_one(url):\n",
    "    resp = requests.get(url)\n",
    "    print('Read {} from {}'.format(len(resp.content), url))\n",
    "\n",
    "def download_all(sites):\n",
    "    with concurrent.futures.ThreadPoolExecutor(max_workers=5) as executor:\n",
    "        to_do = []\n",
    "        for site in sites:\n",
    "            future = executor.submit(download_one, site)\n",
    "            to_do.append(future)\n",
    "\n",
    "        for future in concurrent.futures.as_completed(to_do):\n",
    "            future.result()\n",
    "def main():\n",
    "    sites = [\n",
    "        'https://en.wikipedia.org/wiki/Portal:Arts',\n",
    "        'https://en.wikipedia.org/wiki/Portal:History',\n",
    "        'https://en.wikipedia.org/wiki/Portal:Society',\n",
    "        'https://en.wikipedia.org/wiki/Portal:Biography',\n",
    "        'https://en.wikipedia.org/wiki/Portal:Mathematics',\n",
    "        'https://en.wikipedia.org/wiki/Portal:Technology',\n",
    "        'https://en.wikipedia.org/wiki/Portal:Geography',\n",
    "        'https://en.wikipedia.org/wiki/Portal:Science',\n",
    "        'https://en.wikipedia.org/wiki/Computer_science',\n",
    "        'https://en.wikipedia.org/wiki/Python_(programming_language)',\n",
    "        'https://en.wikipedia.org/wiki/Java_(programming_language)',\n",
    "        'https://en.wikipedia.org/wiki/PHP',\n",
    "        'https://en.wikipedia.org/wiki/Node.js',\n",
    "        'https://en.wikipedia.org/wiki/The_C_Programming_Language',\n",
    "        'https://en.wikipedia.org/wiki/Go_(programming_language)'\n",
    "    ]\n",
    "    start_time = time.perf_counter()\n",
    "    download_all(sites)\n",
    "    end_time = time.perf_counter()\n",
    "    print('Download {} sites in {} seconds'.format(len(sites), end_time - start_time))\n",
    "\n",
    "if __name__ == '__main__':\n",
    "    main()"
   ],
   "metadata": {
    "collapsed": false
   }
  },
  {
   "cell_type": "code",
   "execution_count": 20,
   "outputs": [
    {
     "name": "stderr",
     "output_type": "stream",
     "text": [
      "/var/folders/05/xk850z3d6q904bqtx0pqjr7w0000gn/T/ipykernel_6507/3811547139.py:22: RuntimeWarning: coroutine 'main' was never awaited\n",
      "  main()\n",
      "RuntimeWarning: Enable tracemalloc to get the object allocation traceback\n"
     ]
    }
   ],
   "source": [
    "import asyncio\n",
    "import aiohttp\n",
    "import time\n",
    "\n",
    "async def download_one(url):\n",
    "    async with aiohttp.ClientSession() as session:\n",
    "        async with session.get(url) as resp:\n",
    "            print(f\"read {resp.content_length} from {url}\")\n",
    "\n",
    "async def download_all(sites):\n",
    "    tasks = [asyncio.create_task(download_one(site) for site in sites)]\n",
    "    await asyncio.gather(*tasks)\n",
    "\n",
    "def main():\n",
    "    sites = [ 'https://en.wikipedia.org/wiki/Portal:Arts', 'https://en.wikipedia.org/wiki/Portal:History', 'https://en.wikipedia.org/wiki/Portal:Society', 'https://en.wikipedia.org/wiki/Portal:Biography', 'https://en.wikipedia.org/wiki/Portal:Mathematics', 'https://en.wikipedia.org/wiki/Portal:Technology', 'https://en.wikipedia.org/wiki/Portal:Geography', 'https://en.wikipedia.org/wiki/Portal:Science', 'https://en.wikipedia.org/wiki/Computer_science', 'https://en.wikipedia.org/wiki/Python_(programming_language)', 'https://en.wikipedia.org/wiki/Java_(programming_language)', 'https://en.wikipedia.org/wiki/PHP', 'https://en.wikipedia.org/wiki/Node.js', 'https://en.wikipedia.org/wiki/The_C_Programming_Language', 'https://en.wikipedia.org/wiki/Go_(programming_language)' ]\n",
    "    start_time = time.perf_counter()\n",
    "    asyncio.run(download_all(sites))\n",
    "    end_time = time.perf_counter()\n",
    "    print(f'Download {len(sites)} sites in {end_time - start_time} seconds')\n",
    "\n",
    "if __name__ == '__main__':\n",
    "    main()"
   ],
   "metadata": {
    "collapsed": false
   }
  },
  {
   "cell_type": "code",
   "execution_count": null,
   "outputs": [],
   "source": [],
   "metadata": {
    "collapsed": false,
    "pycharm": {
     "is_executing": true
    }
   }
  }
 ],
 "metadata": {
  "kernelspec": {
   "display_name": "Python 3",
   "language": "python",
   "name": "python3"
  },
  "language_info": {
   "codemirror_mode": {
    "name": "ipython",
    "version": 2
   },
   "file_extension": ".py",
   "mimetype": "text/x-python",
   "name": "python",
   "nbconvert_exporter": "python",
   "pygments_lexer": "ipython2",
   "version": "2.7.6"
  }
 },
 "nbformat": 4,
 "nbformat_minor": 0
}
