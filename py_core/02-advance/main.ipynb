{
 "cells": [
  {
   "cell_type": "code",
   "execution_count": 1,
   "metadata": {
    "collapsed": true
   },
   "outputs": [
    {
     "name": "stdout",
     "output_type": "stream",
     "text": [
      "True\n"
     ]
    }
   ],
   "source": [
    "a = 1\n",
    "b = 1\n",
    "print(a==b)"
   ]
  },
  {
   "cell_type": "code",
   "execution_count": 2,
   "outputs": [
    {
     "name": "stdout",
     "output_type": "stream",
     "text": [
      "140482668796208 --- 140482668796208\n",
      "True\n"
     ]
    }
   ],
   "source": [
    "a = 1\n",
    "b = 1\n",
    "print(id(a), '---', id(b))\n",
    "print(a is b)"
   ],
   "metadata": {
    "collapsed": false
   }
  },
  {
   "cell_type": "code",
   "execution_count": 4,
   "outputs": [
    {
     "name": "stdout",
     "output_type": "stream",
     "text": [
      "True\n",
      "140482837763632\n",
      "140482837764016\n",
      "False\n"
     ]
    }
   ],
   "source": [
    "a = 257\n",
    "b = 257\n",
    "print(a == b)\n",
    "print(id(a))\n",
    "print(id(b))\n",
    "print(a is b)"
   ],
   "metadata": {
    "collapsed": false
   }
  },
  {
   "cell_type": "code",
   "execution_count": 9,
   "outputs": [
    {
     "name": "stdout",
     "output_type": "stream",
     "text": [
      "[1, 2, 3] ---- [1, 2, 3]\n",
      "False\n",
      "True\n",
      "{1, 2, 3} --- {1, 2, 3}\n",
      "False\n",
      "True\n"
     ]
    }
   ],
   "source": [
    "l1 = [1, 2, 3]\n",
    "l2 = list(l1)\n",
    "print(l1, '----', l2)\n",
    "print(l1 is l2)\n",
    "print(l1 == l2)\n",
    "\n",
    "s1 = set([1,2,3])\n",
    "s2 = set(s1)\n",
    "print(s1, '---', s2)\n",
    "print(s1 is s2)\n",
    "print(s1 == s2)"
   ],
   "metadata": {
    "collapsed": false
   }
  },
  {
   "cell_type": "code",
   "execution_count": 10,
   "outputs": [
    {
     "name": "stdout",
     "output_type": "stream",
     "text": [
      "[1, 2, 3] --- [1, 2, 3]\n",
      "False\n",
      "True\n"
     ]
    }
   ],
   "source": [
    "l3 = l1[:]\n",
    "print(l1, '---', l3) # [1, 2, 3] ---- [1, 2, 3]\n",
    "print(l1 is l3) # False\n",
    "print(l1 == l3) # True"
   ],
   "metadata": {
    "collapsed": false
   }
  },
  {
   "cell_type": "code",
   "execution_count": 11,
   "outputs": [
    {
     "name": "stdout",
     "output_type": "stream",
     "text": [
      "(1, 2, 3) --- (1, 2, 3)\n",
      "True\n",
      "True\n"
     ]
    }
   ],
   "source": [
    "t1 = (1,2,3)\n",
    "t2 = tuple(t1)\n",
    "print(t1, '---', t2)\n",
    "print(t1 is t2)\n",
    "print(t1 == t2)"
   ],
   "metadata": {
    "collapsed": false
   }
  },
  {
   "cell_type": "code",
   "execution_count": 14,
   "outputs": [
    {
     "name": "stdout",
     "output_type": "stream",
     "text": [
      "[[1, 2, 3], (10, 20), 50]\n",
      "[[1, 2, 3], (10, 20)]\n",
      "[[1, 2, 3], (10, 20, 30, 40), 50]\n",
      "[[1, 2, 3], (10, 20)]\n"
     ]
    }
   ],
   "source": [
    "l1 = [[1,2], (10,20)]\n",
    "l2 = list(l1)\n",
    "l1.append(50)\n",
    "l1[0].append(3)\n",
    "\n",
    "print(l1)\n",
    "print(l2)\n",
    "\n",
    "l1[1]+=(30,40)\n",
    "print(l1)\n",
    "print(l2)"
   ],
   "metadata": {
    "collapsed": false
   }
  },
  {
   "cell_type": "code",
   "execution_count": 15,
   "outputs": [
    {
     "name": "stdout",
     "output_type": "stream",
     "text": [
      "[[1, 2, 3], (10, 20), 50]\n",
      "[[1, 2], (10, 20)]\n"
     ]
    }
   ],
   "source": [
    "import copy\n",
    "l1 = [[1,2], (10,20)]\n",
    "l2 = copy.deepcopy(l1)\n",
    "l1.append(50)\n",
    "l1[0].append(3)\n",
    "print(l1)\n",
    "print(l2)"
   ],
   "metadata": {
    "collapsed": false
   }
  },
  {
   "cell_type": "code",
   "execution_count": 16,
   "outputs": [
    {
     "ename": "RecursionError",
     "evalue": "maximum recursion depth exceeded in comparison",
     "output_type": "error",
     "traceback": [
      "\u001B[0;31m---------------------------------------------------------------------------\u001B[0m",
      "\u001B[0;31mRecursionError\u001B[0m                            Traceback (most recent call last)",
      "Cell \u001B[0;32mIn [16], line 8\u001B[0m\n\u001B[1;32m      5\u001B[0m y \u001B[38;5;241m=\u001B[39m copy\u001B[38;5;241m.\u001B[39mdeepcopy(x)\n\u001B[1;32m      7\u001B[0m \u001B[38;5;66;03m# 以下命令的输出是？\u001B[39;00m\n\u001B[0;32m----> 8\u001B[0m \u001B[43mx\u001B[49m\u001B[43m \u001B[49m\u001B[38;5;241;43m==\u001B[39;49m\u001B[43m \u001B[49m\u001B[43my\u001B[49m\n",
      "\u001B[0;31mRecursionError\u001B[0m: maximum recursion depth exceeded in comparison"
     ]
    }
   ],
   "source": [
    "\n",
    "import copy\n",
    "x = [1]\n",
    "x.append(x)\n",
    "\n",
    "y = copy.deepcopy(x)\n",
    "\n",
    "# 以下命令的输出是？\n",
    "x == y"
   ],
   "metadata": {
    "collapsed": false
   }
  },
  {
   "cell_type": "code",
   "execution_count": 17,
   "outputs": [
    {
     "name": "stdout",
     "output_type": "stream",
     "text": [
      "[1, 2, 3, 4]\n"
     ]
    }
   ],
   "source": [
    "def func(l):\n",
    "    l.append(4)\n",
    "\n",
    "l2 = [1,2,3]\n",
    "func(l2)\n",
    "print(l2)"
   ],
   "metadata": {
    "collapsed": false
   }
  },
  {
   "cell_type": "code",
   "execution_count": null,
   "outputs": [],
   "source": [],
   "metadata": {
    "collapsed": false
   }
  }
 ],
 "metadata": {
  "kernelspec": {
   "display_name": "Python 3",
   "language": "python",
   "name": "python3"
  },
  "language_info": {
   "codemirror_mode": {
    "name": "ipython",
    "version": 2
   },
   "file_extension": ".py",
   "mimetype": "text/x-python",
   "name": "python",
   "nbconvert_exporter": "python",
   "pygments_lexer": "ipython2",
   "version": "2.7.6"
  }
 },
 "nbformat": 4,
 "nbformat_minor": 0
}
